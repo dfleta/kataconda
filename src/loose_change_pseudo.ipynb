{
 "metadata": {
  "language_info": {
   "codemirror_mode": {
    "name": "ipython",
    "version": 3
   },
   "file_extension": ".py",
   "mimetype": "text/x-python",
   "name": "python",
   "nbconvert_exporter": "python",
   "pygments_lexer": "ipython3",
   "version": "3.6.9-final"
  },
  "orig_nbformat": 2,
  "kernelspec": {
   "name": "python36964bit726dce05b3144e9e80719d87a8e14857",
   "display_name": "Python 3.6.9 64-bit"
  }
 },
 "nbformat": 4,
 "nbformat_minor": 2,
 "cells": [
  {
   "source": [
    "1. Crea una `lista` con los nombres de las monedas.\n",
    "2. Crea una `lista` con los valores de las monedas."
   ],
   "cell_type": "markdown",
   "metadata": {}
  },
  {
   "source": [
    "3. Crea un `diccionario` de monedas utilizando las dos `listas` anteriores. "
   ],
   "cell_type": "markdown",
   "metadata": {}
  },
  {
   "source": [
    "4. Crea una `lista` ordenada con el valor de las monedas de menor a mayor a partir de los valores almacenados en el `diccionario` de monedas del paso anterior."
   ],
   "cell_type": "markdown",
   "metadata": {}
  },
  {
   "source": [
    "5. Intenta conformar el cambio a devolver utilizando el menor número de monedas posibles, comenzando por devolver el mayor número de monedas de 25c, luego de 10c, luego de 5c y finalmente de 1c. \n",
    "6. Almacena las monedas que vas necesitando en una nueva `lista`. "
   ],
   "cell_type": "markdown",
   "metadata": {}
  },
  {
   "source": [
    "7. Crea un nuevo diccionario utilizando las claves o `keys` del diccionario de monedas del paso 3. El valor de cada `key` de este nuevo diccionario es `0`.\n",
    "8. Recorre la `lista` que contiene las monedas del cambio e incrementa en `1` el valor asociado a la `key` de esa moneda en el diccionario del paso 7. Obtendrás un diccionario de la forma: `{'Nickels': 1, 'Pennies': 1, 'Dimes': 0, 'Quarters': 2}`  donde cada valor indica el número de monedas utilizadas de cada tipo.\n"
   ],
   "cell_type": "markdown",
   "metadata": {}
  }
 ]
}