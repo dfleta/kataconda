{
 "cells": [
  {
   "cell_type": "markdown",
   "metadata": {},
   "source": [
    "1. Crea una `lista` con los nombres de las monedas.\n",
    "2. Crea una `lista` con los valores de las monedas."
   ]
  },
  {
   "cell_type": "code",
   "execution_count": 1,
   "metadata": {},
   "outputs": [],
   "source": [
    "cents = 56\n",
    "coinKeys = ['Nickels', 'Pennies', 'Dimes', 'Quarters']\n",
    "coinValues = [5, 1, 10, 25]\n"
   ]
  },
  {
   "cell_type": "markdown",
   "metadata": {},
   "source": [
    "3. Crea un `diccionario` de monedas utilizando las dos `listas` anteriores. "
   ]
  },
  {
   "cell_type": "code",
   "execution_count": 2,
   "metadata": {},
   "outputs": [],
   "source": [
    "wallet = dict(zip(coinKeys, coinValues))"
   ]
  },
  {
   "cell_type": "markdown",
   "metadata": {},
   "source": [
    "4. Crea una `lista` ordenada con el valor de las monedas de menor a mayor a partir de los valores almacenados en el `diccionario` de monedas del paso anterior."
   ]
  },
  {
   "cell_type": "code",
   "execution_count": 3,
   "metadata": {},
   "outputs": [],
   "source": [
    "coins = list(sorted(wallet.values()))"
   ]
  },
  {
   "cell_type": "markdown",
   "metadata": {},
   "source": [
    "5. Intenta conformar el cambio a devolver utilizando el menor número de monedas posibles, comenzando por devolver el mayor número de monedas de 25c, luego de 10c, luego de 5c y finalmente de 1c. \n",
    "6. Almacena las monedas que vas necesitando en una nueva `lista`. "
   ]
  },
  {
   "cell_type": "code",
   "execution_count": 4,
   "metadata": {},
   "outputs": [],
   "source": [
    "change = []\n",
    "i = len(coins) - 1\n",
    "while cents > 0 and i >= 0:\n",
    "    if cents >= coins[i]:\n",
    "        cents = cents - coins[i]\n",
    "        change.append(coins[i])\n",
    "    else:\n",
    "        i -= 1"
   ]
  },
  {
   "cell_type": "markdown",
   "metadata": {},
   "source": [
    "7. Crea un nuevo diccionario utilizando las claves o `keys` del diccionario de monedas del paso 3. El valor de cada `key` de este nuevo diccionario es `0`."
   ]
  },
  {
   "cell_type": "code",
   "execution_count": 5,
   "metadata": {},
   "outputs": [],
   "source": [
    "change_dict = dict.fromkeys(coinKeys, 0)"
   ]
  },
  {
   "cell_type": "markdown",
   "metadata": {},
   "source": [
    "8. Recorre la `lista` que contiene las monedas del cambio e incrementa en `1` el valor asociado a la `key` de esa moneda en el diccionario del paso 7. Obtendrás un diccionario de la forma: `{'Nickels': 1, 'Pennies': 1, 'Dimes': 0, 'Quarters': 2}`  donde cada valor indica el número de monedas utilizadas de cada tipo."
   ]
  },
  {
   "cell_type": "code",
   "execution_count": 6,
   "metadata": {},
   "outputs": [
    {
     "name": "stdout",
     "output_type": "stream",
     "text": [
      "{'Nickels': 1, 'Pennies': 1, 'Dimes': 0, 'Quarters': 2}\n"
     ]
    }
   ],
   "source": [
    "for coin in change:\n",
    "    for coinKeys in wallet:\n",
    "        if wallet[coinKeys] == coin:\n",
    "            change_dict[coinKeys] += 1\n",
    "print(change_dict)"
   ]
  }
 ],
 "metadata": {
  "kernelspec": {
   "display_name": "Python 3",
   "language": "python",
   "name": "python3"
  },
  "language_info": {
   "codemirror_mode": {
    "name": "ipython",
    "version": 3
   },
   "file_extension": ".py",
   "mimetype": "text/x-python",
   "name": "python",
   "nbconvert_exporter": "python",
   "pygments_lexer": "ipython3",
   "version": "3.8.10"
  },
  "orig_nbformat": 2
 },
 "nbformat": 4,
 "nbformat_minor": 2
}
